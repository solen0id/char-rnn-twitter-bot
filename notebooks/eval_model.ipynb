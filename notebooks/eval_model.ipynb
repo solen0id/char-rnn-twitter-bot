{
 "cells": [
  {
   "cell_type": "code",
   "execution_count": null,
   "metadata": {},
   "outputs": [],
   "source": [
    "import os\n",
    "import keras \n",
    "import tweepy\n",
    "import joblib\n",
    "\n",
    "import numpy as np \n",
    "\n",
    "ALLOWED_CHARS = [' ', '!', '?', ',', '.', '\\'', 'a', 'b', 'c', 'd', 'e', 'f', 'g', 'h', 'i', 'j', 'k', 'l', 'm', 'n', 'o', 'p', 'q', 'r', 's', 't', 'u', 'v', 'w', 'x', 'y', 'z']\n",
    "\n",
    "def clean_text(text):\n",
    "    text = text.replace(\"@need_me_some_hp\", \"\").lower()\n",
    "    return  \"\".join([char for char in text if char in ALLOWED_CHARS])\n",
    "\n",
    "def generate_new_text(seed, diversity, length=140):\n",
    "\n",
    "    def sample(preds, temperature=1.0):\n",
    "        # helper function to sample an index from a probability array\n",
    "        preds = np.asarray(preds).astype('float64')\n",
    "        preds = np.log(preds) / temperature\n",
    "        exp_preds = np.exp(preds)\n",
    "        preds = exp_preds / np.sum(exp_preds)\n",
    "        probas = np.random.multinomial(1, preds, 1)\n",
    "        return np.argmax(probas)\n",
    "    \n",
    "    seed = clean_text(seed)\n",
    "\n",
    "    # pad or trim seed-sentence to 100 chars \n",
    "    # -> this is what the model was trained on\n",
    "    if len(seed) > 100:\n",
    "        generated = seed[-100:]\n",
    "    elif len(seed) < 100:\n",
    "        generated = (100 - len(seed)) * \" \" + seed\n",
    "\n",
    "    sequence = np.asarray([char_to_idx[char] for char in generated])\n",
    "    \n",
    "    for i in range(length-len(seed)):\n",
    "        preds = model.predict(sequence.reshape(-1,100), verbose=0)[0][-1]\n",
    "        next_char_index = sample(preds, diversity)\n",
    "        next_char = idx_to_char[next_char_index]\n",
    "\n",
    "        generated += next_char\n",
    "        sequence = np.append(sequence[1:], next_char_index)\n",
    "    \n",
    "    return generated.strip()[-length:]\n",
    "\n",
    "# load model \n",
    "model = keras.models.load_model(\"./models/char_model_demo\")\n",
    "char_to_idx = joblib.load(\"./models/char_to_idx_demo\")\n",
    "idx_to_char = {idx:char for char, idx in char_to_idx.items()}"
   ]
  },
  {
   "cell_type": "code",
   "execution_count": null,
   "metadata": {},
   "outputs": [],
   "source": [
    "text = \"\"\n",
    "gen = generate_new_text(text, 0.4, 500)\n",
    "\n",
    "print(gen)"
   ]
  }
 ],
 "metadata": {
  "kernelspec": {
   "display_name": "Python 3",
   "language": "python",
   "name": "python3"
  },
  "language_info": {
   "codemirror_mode": {
    "name": "ipython",
    "version": 3
   },
   "file_extension": ".py",
   "mimetype": "text/x-python",
   "name": "python",
   "nbconvert_exporter": "python",
   "pygments_lexer": "ipython3",
   "version": "3.6.3"
  }
 },
 "nbformat": 4,
 "nbformat_minor": 2
}
